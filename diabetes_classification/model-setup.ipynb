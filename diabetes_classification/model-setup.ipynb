{
 "cells": [
  {
   "cell_type": "code",
   "execution_count": 1,
   "id": "6d3183be",
   "metadata": {},
   "outputs": [
    {
     "name": "stdout",
     "output_type": "stream",
     "text": [
      "Requirement already satisfied: pandas in c:\\users\\nikol\\appdata\\local\\programs\\python\\python310\\lib\\site-packages (2.2.3)\n",
      "Requirement already satisfied: matplotlib in c:\\users\\nikol\\appdata\\local\\programs\\python\\python310\\lib\\site-packages (3.10.0)\n",
      "Requirement already satisfied: tzdata>=2022.7 in c:\\users\\nikol\\appdata\\local\\programs\\python\\python310\\lib\\site-packages (from pandas) (2025.1)\n",
      "Requirement already satisfied: pytz>=2020.1 in c:\\users\\nikol\\appdata\\local\\programs\\python\\python310\\lib\\site-packages (from pandas) (2025.1)\n",
      "Requirement already satisfied: numpy>=1.22.4 in c:\\users\\nikol\\appdata\\local\\programs\\python\\python310\\lib\\site-packages (from pandas) (2.2.2)\n",
      "Requirement already satisfied: python-dateutil>=2.8.2 in c:\\users\\nikol\\appdata\\roaming\\python\\python310\\site-packages (from pandas) (2.9.0.post0)\n",
      "Requirement already satisfied: kiwisolver>=1.3.1 in c:\\users\\nikol\\appdata\\local\\programs\\python\\python310\\lib\\site-packages (from matplotlib) (1.4.8)\n",
      "Requirement already satisfied: fonttools>=4.22.0 in c:\\users\\nikol\\appdata\\local\\programs\\python\\python310\\lib\\site-packages (from matplotlib) (4.55.8)\n",
      "Requirement already satisfied: packaging>=20.0 in c:\\users\\nikol\\appdata\\roaming\\python\\python310\\site-packages (from matplotlib) (24.2)\n",
      "Requirement already satisfied: contourpy>=1.0.1 in c:\\users\\nikol\\appdata\\local\\programs\\python\\python310\\lib\\site-packages (from matplotlib) (1.3.1)\n",
      "Requirement already satisfied: pyparsing>=2.3.1 in c:\\users\\nikol\\appdata\\local\\programs\\python\\python310\\lib\\site-packages (from matplotlib) (3.2.1)\n",
      "Requirement already satisfied: pillow>=8 in c:\\users\\nikol\\appdata\\local\\programs\\python\\python310\\lib\\site-packages (from matplotlib) (11.1.0)\n",
      "Requirement already satisfied: cycler>=0.10 in c:\\users\\nikol\\appdata\\local\\programs\\python\\python310\\lib\\site-packages (from matplotlib) (0.12.1)\n",
      "Requirement already satisfied: six>=1.5 in c:\\users\\nikol\\appdata\\roaming\\python\\python310\\site-packages (from python-dateutil>=2.8.2->pandas) (1.17.0)\n"
     ]
    },
    {
     "name": "stderr",
     "output_type": "stream",
     "text": [
      "WARNING: You are using pip version 21.2.3; however, version 25.0 is available.\n",
      "You should consider upgrading via the 'C:\\Users\\nikol\\AppData\\Local\\Programs\\Python\\Python310\\python.exe -m pip install --upgrade pip' command.\n"
     ]
    }
   ],
   "source": [
    "! pip install pandas matplotlib"
   ]
  },
  {
   "cell_type": "code",
   "execution_count": 2,
   "id": "initial_id",
   "metadata": {
    "ExecuteTime": {
     "end_time": "2025-01-30T19:06:59.222323100Z",
     "start_time": "2025-01-30T19:06:49.511284900Z"
    },
    "collapsed": true
   },
   "outputs": [
    {
     "ename": "ModuleNotFoundError",
     "evalue": "No module named 'pandas'",
     "output_type": "error",
     "traceback": [
      "\u001b[1;31m---------------------------------------------------------------------------\u001b[0m",
      "\u001b[1;31mModuleNotFoundError\u001b[0m                       Traceback (most recent call last)",
      "Cell \u001b[1;32mIn[2], line 1\u001b[0m\n\u001b[1;32m----> 1\u001b[0m \u001b[38;5;28;01mimport\u001b[39;00m\u001b[38;5;250m \u001b[39m\u001b[38;5;21;01mpandas\u001b[39;00m\u001b[38;5;250m \u001b[39m\u001b[38;5;28;01mas\u001b[39;00m\u001b[38;5;250m \u001b[39m\u001b[38;5;21;01mpd\u001b[39;00m\n\u001b[0;32m      2\u001b[0m \u001b[38;5;28;01mfrom\u001b[39;00m\u001b[38;5;250m \u001b[39m\u001b[38;5;21;01msklearn\u001b[39;00m\u001b[38;5;21;01m.\u001b[39;00m\u001b[38;5;21;01mmodel_selection\u001b[39;00m\u001b[38;5;250m \u001b[39m\u001b[38;5;28;01mimport\u001b[39;00m train_test_split\n\u001b[0;32m      3\u001b[0m \u001b[38;5;28;01mimport\u001b[39;00m\u001b[38;5;250m \u001b[39m\u001b[38;5;21;01mmatplotlib\u001b[39;00m\u001b[38;5;21;01m.\u001b[39;00m\u001b[38;5;21;01mpyplot\u001b[39;00m\u001b[38;5;250m \u001b[39m\u001b[38;5;28;01mas\u001b[39;00m\u001b[38;5;250m \u001b[39m\u001b[38;5;21;01mplt\u001b[39;00m\n",
      "\u001b[1;31mModuleNotFoundError\u001b[0m: No module named 'pandas'"
     ]
    }
   ],
   "source": [
    "import pandas as pd\n",
    "from sklearn.model_selection import train_test_split\n",
    "import matplotlib.pyplot as plt"
   ]
  },
  {
   "cell_type": "code",
   "execution_count": 2,
   "id": "bb25d44563bcd8a3",
   "metadata": {
    "ExecuteTime": {
     "end_time": "2025-01-30T19:06:59.602314600Z",
     "start_time": "2025-01-30T19:06:59.210314Z"
    },
    "collapsed": false
   },
   "outputs": [
    {
     "data": {
      "text/html": [
       "<div>\n",
       "<style scoped>\n",
       "    .dataframe tbody tr th:only-of-type {\n",
       "        vertical-align: middle;\n",
       "    }\n",
       "\n",
       "    .dataframe tbody tr th {\n",
       "        vertical-align: top;\n",
       "    }\n",
       "\n",
       "    .dataframe thead th {\n",
       "        text-align: right;\n",
       "    }\n",
       "</style>\n",
       "<table border=\"1\" class=\"dataframe\">\n",
       "  <thead>\n",
       "    <tr style=\"text-align: right;\">\n",
       "      <th></th>\n",
       "      <th>Diabetes_012</th>\n",
       "      <th>HighBP</th>\n",
       "      <th>HighChol</th>\n",
       "      <th>CholCheck</th>\n",
       "      <th>BMI</th>\n",
       "      <th>Smoker</th>\n",
       "      <th>Stroke</th>\n",
       "      <th>HeartDiseaseorAttack</th>\n",
       "      <th>PhysActivity</th>\n",
       "      <th>Fruits</th>\n",
       "      <th>...</th>\n",
       "      <th>AnyHealthcare</th>\n",
       "      <th>NoDocbcCost</th>\n",
       "      <th>GenHlth</th>\n",
       "      <th>MentHlth</th>\n",
       "      <th>PhysHlth</th>\n",
       "      <th>DiffWalk</th>\n",
       "      <th>Sex</th>\n",
       "      <th>Age</th>\n",
       "      <th>Education</th>\n",
       "      <th>Income</th>\n",
       "    </tr>\n",
       "  </thead>\n",
       "  <tbody>\n",
       "    <tr>\n",
       "      <th>0</th>\n",
       "      <td>0.0</td>\n",
       "      <td>1.0</td>\n",
       "      <td>1.0</td>\n",
       "      <td>1.0</td>\n",
       "      <td>40.0</td>\n",
       "      <td>1.0</td>\n",
       "      <td>0.0</td>\n",
       "      <td>0.0</td>\n",
       "      <td>0.0</td>\n",
       "      <td>0.0</td>\n",
       "      <td>...</td>\n",
       "      <td>1.0</td>\n",
       "      <td>0.0</td>\n",
       "      <td>5.0</td>\n",
       "      <td>18.0</td>\n",
       "      <td>15.0</td>\n",
       "      <td>1.0</td>\n",
       "      <td>0.0</td>\n",
       "      <td>9.0</td>\n",
       "      <td>4.0</td>\n",
       "      <td>3.0</td>\n",
       "    </tr>\n",
       "    <tr>\n",
       "      <th>1</th>\n",
       "      <td>0.0</td>\n",
       "      <td>0.0</td>\n",
       "      <td>0.0</td>\n",
       "      <td>0.0</td>\n",
       "      <td>25.0</td>\n",
       "      <td>1.0</td>\n",
       "      <td>0.0</td>\n",
       "      <td>0.0</td>\n",
       "      <td>1.0</td>\n",
       "      <td>0.0</td>\n",
       "      <td>...</td>\n",
       "      <td>0.0</td>\n",
       "      <td>1.0</td>\n",
       "      <td>3.0</td>\n",
       "      <td>0.0</td>\n",
       "      <td>0.0</td>\n",
       "      <td>0.0</td>\n",
       "      <td>0.0</td>\n",
       "      <td>7.0</td>\n",
       "      <td>6.0</td>\n",
       "      <td>1.0</td>\n",
       "    </tr>\n",
       "    <tr>\n",
       "      <th>2</th>\n",
       "      <td>0.0</td>\n",
       "      <td>1.0</td>\n",
       "      <td>1.0</td>\n",
       "      <td>1.0</td>\n",
       "      <td>28.0</td>\n",
       "      <td>0.0</td>\n",
       "      <td>0.0</td>\n",
       "      <td>0.0</td>\n",
       "      <td>0.0</td>\n",
       "      <td>1.0</td>\n",
       "      <td>...</td>\n",
       "      <td>1.0</td>\n",
       "      <td>1.0</td>\n",
       "      <td>5.0</td>\n",
       "      <td>30.0</td>\n",
       "      <td>30.0</td>\n",
       "      <td>1.0</td>\n",
       "      <td>0.0</td>\n",
       "      <td>9.0</td>\n",
       "      <td>4.0</td>\n",
       "      <td>8.0</td>\n",
       "    </tr>\n",
       "    <tr>\n",
       "      <th>3</th>\n",
       "      <td>0.0</td>\n",
       "      <td>1.0</td>\n",
       "      <td>0.0</td>\n",
       "      <td>1.0</td>\n",
       "      <td>27.0</td>\n",
       "      <td>0.0</td>\n",
       "      <td>0.0</td>\n",
       "      <td>0.0</td>\n",
       "      <td>1.0</td>\n",
       "      <td>1.0</td>\n",
       "      <td>...</td>\n",
       "      <td>1.0</td>\n",
       "      <td>0.0</td>\n",
       "      <td>2.0</td>\n",
       "      <td>0.0</td>\n",
       "      <td>0.0</td>\n",
       "      <td>0.0</td>\n",
       "      <td>0.0</td>\n",
       "      <td>11.0</td>\n",
       "      <td>3.0</td>\n",
       "      <td>6.0</td>\n",
       "    </tr>\n",
       "    <tr>\n",
       "      <th>4</th>\n",
       "      <td>0.0</td>\n",
       "      <td>1.0</td>\n",
       "      <td>1.0</td>\n",
       "      <td>1.0</td>\n",
       "      <td>24.0</td>\n",
       "      <td>0.0</td>\n",
       "      <td>0.0</td>\n",
       "      <td>0.0</td>\n",
       "      <td>1.0</td>\n",
       "      <td>1.0</td>\n",
       "      <td>...</td>\n",
       "      <td>1.0</td>\n",
       "      <td>0.0</td>\n",
       "      <td>2.0</td>\n",
       "      <td>3.0</td>\n",
       "      <td>0.0</td>\n",
       "      <td>0.0</td>\n",
       "      <td>0.0</td>\n",
       "      <td>11.0</td>\n",
       "      <td>5.0</td>\n",
       "      <td>4.0</td>\n",
       "    </tr>\n",
       "    <tr>\n",
       "      <th>...</th>\n",
       "      <td>...</td>\n",
       "      <td>...</td>\n",
       "      <td>...</td>\n",
       "      <td>...</td>\n",
       "      <td>...</td>\n",
       "      <td>...</td>\n",
       "      <td>...</td>\n",
       "      <td>...</td>\n",
       "      <td>...</td>\n",
       "      <td>...</td>\n",
       "      <td>...</td>\n",
       "      <td>...</td>\n",
       "      <td>...</td>\n",
       "      <td>...</td>\n",
       "      <td>...</td>\n",
       "      <td>...</td>\n",
       "      <td>...</td>\n",
       "      <td>...</td>\n",
       "      <td>...</td>\n",
       "      <td>...</td>\n",
       "      <td>...</td>\n",
       "    </tr>\n",
       "    <tr>\n",
       "      <th>253675</th>\n",
       "      <td>0.0</td>\n",
       "      <td>1.0</td>\n",
       "      <td>1.0</td>\n",
       "      <td>1.0</td>\n",
       "      <td>45.0</td>\n",
       "      <td>0.0</td>\n",
       "      <td>0.0</td>\n",
       "      <td>0.0</td>\n",
       "      <td>0.0</td>\n",
       "      <td>1.0</td>\n",
       "      <td>...</td>\n",
       "      <td>1.0</td>\n",
       "      <td>0.0</td>\n",
       "      <td>3.0</td>\n",
       "      <td>0.0</td>\n",
       "      <td>5.0</td>\n",
       "      <td>0.0</td>\n",
       "      <td>1.0</td>\n",
       "      <td>5.0</td>\n",
       "      <td>6.0</td>\n",
       "      <td>7.0</td>\n",
       "    </tr>\n",
       "    <tr>\n",
       "      <th>253676</th>\n",
       "      <td>2.0</td>\n",
       "      <td>1.0</td>\n",
       "      <td>1.0</td>\n",
       "      <td>1.0</td>\n",
       "      <td>18.0</td>\n",
       "      <td>0.0</td>\n",
       "      <td>0.0</td>\n",
       "      <td>0.0</td>\n",
       "      <td>0.0</td>\n",
       "      <td>0.0</td>\n",
       "      <td>...</td>\n",
       "      <td>1.0</td>\n",
       "      <td>0.0</td>\n",
       "      <td>4.0</td>\n",
       "      <td>0.0</td>\n",
       "      <td>0.0</td>\n",
       "      <td>1.0</td>\n",
       "      <td>0.0</td>\n",
       "      <td>11.0</td>\n",
       "      <td>2.0</td>\n",
       "      <td>4.0</td>\n",
       "    </tr>\n",
       "    <tr>\n",
       "      <th>253677</th>\n",
       "      <td>0.0</td>\n",
       "      <td>0.0</td>\n",
       "      <td>0.0</td>\n",
       "      <td>1.0</td>\n",
       "      <td>28.0</td>\n",
       "      <td>0.0</td>\n",
       "      <td>0.0</td>\n",
       "      <td>0.0</td>\n",
       "      <td>1.0</td>\n",
       "      <td>1.0</td>\n",
       "      <td>...</td>\n",
       "      <td>1.0</td>\n",
       "      <td>0.0</td>\n",
       "      <td>1.0</td>\n",
       "      <td>0.0</td>\n",
       "      <td>0.0</td>\n",
       "      <td>0.0</td>\n",
       "      <td>0.0</td>\n",
       "      <td>2.0</td>\n",
       "      <td>5.0</td>\n",
       "      <td>2.0</td>\n",
       "    </tr>\n",
       "    <tr>\n",
       "      <th>253678</th>\n",
       "      <td>0.0</td>\n",
       "      <td>1.0</td>\n",
       "      <td>0.0</td>\n",
       "      <td>1.0</td>\n",
       "      <td>23.0</td>\n",
       "      <td>0.0</td>\n",
       "      <td>0.0</td>\n",
       "      <td>0.0</td>\n",
       "      <td>0.0</td>\n",
       "      <td>1.0</td>\n",
       "      <td>...</td>\n",
       "      <td>1.0</td>\n",
       "      <td>0.0</td>\n",
       "      <td>3.0</td>\n",
       "      <td>0.0</td>\n",
       "      <td>0.0</td>\n",
       "      <td>0.0</td>\n",
       "      <td>1.0</td>\n",
       "      <td>7.0</td>\n",
       "      <td>5.0</td>\n",
       "      <td>1.0</td>\n",
       "    </tr>\n",
       "    <tr>\n",
       "      <th>253679</th>\n",
       "      <td>2.0</td>\n",
       "      <td>1.0</td>\n",
       "      <td>1.0</td>\n",
       "      <td>1.0</td>\n",
       "      <td>25.0</td>\n",
       "      <td>0.0</td>\n",
       "      <td>0.0</td>\n",
       "      <td>1.0</td>\n",
       "      <td>1.0</td>\n",
       "      <td>1.0</td>\n",
       "      <td>...</td>\n",
       "      <td>1.0</td>\n",
       "      <td>0.0</td>\n",
       "      <td>2.0</td>\n",
       "      <td>0.0</td>\n",
       "      <td>0.0</td>\n",
       "      <td>0.0</td>\n",
       "      <td>0.0</td>\n",
       "      <td>9.0</td>\n",
       "      <td>6.0</td>\n",
       "      <td>2.0</td>\n",
       "    </tr>\n",
       "  </tbody>\n",
       "</table>\n",
       "<p>253680 rows × 22 columns</p>\n",
       "</div>"
      ],
      "text/plain": [
       "        Diabetes_012  HighBP  HighChol  CholCheck   BMI  Smoker  Stroke  \\\n",
       "0                0.0     1.0       1.0        1.0  40.0     1.0     0.0   \n",
       "1                0.0     0.0       0.0        0.0  25.0     1.0     0.0   \n",
       "2                0.0     1.0       1.0        1.0  28.0     0.0     0.0   \n",
       "3                0.0     1.0       0.0        1.0  27.0     0.0     0.0   \n",
       "4                0.0     1.0       1.0        1.0  24.0     0.0     0.0   \n",
       "...              ...     ...       ...        ...   ...     ...     ...   \n",
       "253675           0.0     1.0       1.0        1.0  45.0     0.0     0.0   \n",
       "253676           2.0     1.0       1.0        1.0  18.0     0.0     0.0   \n",
       "253677           0.0     0.0       0.0        1.0  28.0     0.0     0.0   \n",
       "253678           0.0     1.0       0.0        1.0  23.0     0.0     0.0   \n",
       "253679           2.0     1.0       1.0        1.0  25.0     0.0     0.0   \n",
       "\n",
       "        HeartDiseaseorAttack  PhysActivity  Fruits  ...  AnyHealthcare  \\\n",
       "0                        0.0           0.0     0.0  ...            1.0   \n",
       "1                        0.0           1.0     0.0  ...            0.0   \n",
       "2                        0.0           0.0     1.0  ...            1.0   \n",
       "3                        0.0           1.0     1.0  ...            1.0   \n",
       "4                        0.0           1.0     1.0  ...            1.0   \n",
       "...                      ...           ...     ...  ...            ...   \n",
       "253675                   0.0           0.0     1.0  ...            1.0   \n",
       "253676                   0.0           0.0     0.0  ...            1.0   \n",
       "253677                   0.0           1.0     1.0  ...            1.0   \n",
       "253678                   0.0           0.0     1.0  ...            1.0   \n",
       "253679                   1.0           1.0     1.0  ...            1.0   \n",
       "\n",
       "        NoDocbcCost  GenHlth  MentHlth  PhysHlth  DiffWalk  Sex   Age  \\\n",
       "0               0.0      5.0      18.0      15.0       1.0  0.0   9.0   \n",
       "1               1.0      3.0       0.0       0.0       0.0  0.0   7.0   \n",
       "2               1.0      5.0      30.0      30.0       1.0  0.0   9.0   \n",
       "3               0.0      2.0       0.0       0.0       0.0  0.0  11.0   \n",
       "4               0.0      2.0       3.0       0.0       0.0  0.0  11.0   \n",
       "...             ...      ...       ...       ...       ...  ...   ...   \n",
       "253675          0.0      3.0       0.0       5.0       0.0  1.0   5.0   \n",
       "253676          0.0      4.0       0.0       0.0       1.0  0.0  11.0   \n",
       "253677          0.0      1.0       0.0       0.0       0.0  0.0   2.0   \n",
       "253678          0.0      3.0       0.0       0.0       0.0  1.0   7.0   \n",
       "253679          0.0      2.0       0.0       0.0       0.0  0.0   9.0   \n",
       "\n",
       "        Education  Income  \n",
       "0             4.0     3.0  \n",
       "1             6.0     1.0  \n",
       "2             4.0     8.0  \n",
       "3             3.0     6.0  \n",
       "4             5.0     4.0  \n",
       "...           ...     ...  \n",
       "253675        6.0     7.0  \n",
       "253676        2.0     4.0  \n",
       "253677        5.0     2.0  \n",
       "253678        5.0     1.0  \n",
       "253679        6.0     2.0  \n",
       "\n",
       "[253680 rows x 22 columns]"
      ]
     },
     "execution_count": 2,
     "metadata": {},
     "output_type": "execute_result"
    }
   ],
   "source": [
    "df = pd.read_csv(\"diabetes_012_health_indicators_BRFSS2015.csv\")\n",
    "df"
   ]
  },
  {
   "cell_type": "code",
   "execution_count": 3,
   "id": "18030a1ec3505bc7",
   "metadata": {
    "ExecuteTime": {
     "end_time": "2025-01-30T19:06:59.663313300Z",
     "start_time": "2025-01-30T19:06:59.602314600Z"
    },
    "collapsed": false
   },
   "outputs": [],
   "source": [
    "X = df.drop(columns='Diabetes_012')\n",
    "y = df['Diabetes_012']"
   ]
  },
  {
   "cell_type": "code",
   "execution_count": 4,
   "id": "a7257079c4f8046b",
   "metadata": {
    "ExecuteTime": {
     "end_time": "2025-01-30T19:06:59.828307300Z",
     "start_time": "2025-01-30T19:06:59.634309400Z"
    },
    "collapsed": false
   },
   "outputs": [],
   "source": [
    "X_train, X_test, y_train, y_test = train_test_split(X, y, test_size=0.2, stratify=y, random_state=42)"
   ]
  },
  {
   "cell_type": "code",
   "execution_count": 5,
   "id": "f751f7aeea156084",
   "metadata": {
    "ExecuteTime": {
     "end_time": "2025-01-30T19:06:59.892348100Z",
     "start_time": "2025-01-30T19:06:59.820307500Z"
    },
    "collapsed": false
   },
   "outputs": [
    {
     "data": {
      "text/plain": [
       "<Figure size 1000x600 with 0 Axes>"
      ]
     },
     "execution_count": 5,
     "metadata": {},
     "output_type": "execute_result"
    },
    {
     "data": {
      "text/plain": [
       "<Figure size 1000x600 with 0 Axes>"
      ]
     },
     "metadata": {},
     "output_type": "display_data"
    }
   ],
   "source": [
    "plt.figure(figsize=(10,6))"
   ]
  },
  {
   "cell_type": "code",
   "execution_count": 6,
   "id": "b6c3a759eb5bacc6",
   "metadata": {
    "ExecuteTime": {
     "end_time": "2025-01-30T19:07:00.131336800Z",
     "start_time": "2025-01-30T19:06:59.880356400Z"
    },
    "collapsed": false
   },
   "outputs": [
    {
     "data": {
      "text/plain": [
       "Text(0, 0.5, 'Number of Samples')"
      ]
     },
     "execution_count": 6,
     "metadata": {},
     "output_type": "execute_result"
    },
    {
     "data": {
      "image/png": "[encoded data removed]",
      "text/plain": [
       "<Figure size 640x480 with 1 Axes>"
      ]
     },
     "metadata": {},
     "output_type": "display_data"
    }
   ],
   "source": [
    "plt.subplot(1, 2, 1)\n",
    "y.value_counts().plot(kind='bar', color='skyblue')\n",
    "plt.title('Class Distribution - Original Data')\n",
    "plt.xlabel('Class')\n",
    "plt.ylabel('Number of Samples')"
   ]
  },
  {
   "cell_type": "code",
   "execution_count": 7,
   "id": "b919244f8af845a8",
   "metadata": {
    "ExecuteTime": {
     "end_time": "2025-01-30T19:07:00.143342400Z",
     "start_time": "2025-01-30T19:07:00.128338300Z"
    },
    "collapsed": false
   },
   "outputs": [
    {
     "data": {
      "text/plain": [
       "Diabetes_012\n",
       "0.0    84.241170\n",
       "2.0    13.933302\n",
       "1.0     1.825528\n",
       "Name: proportion, dtype: float64"
      ]
     },
     "execution_count": 7,
     "metadata": {},
     "output_type": "execute_result"
    }
   ],
   "source": [
    "y.value_counts(normalize=True) * 100"
   ]
  },
  {
   "cell_type": "code",
   "execution_count": 8,
   "id": "9cdcf70839c0666a",
   "metadata": {
    "ExecuteTime": {
     "end_time": "2025-01-30T19:07:00.282336200Z",
     "start_time": "2025-01-30T19:07:00.142335Z"
    },
    "collapsed": false
   },
   "outputs": [
    {
     "data": {
      "text/plain": [
       "Text(0, 0.5, 'Number of Samples')"
      ]
     },
     "execution_count": 8,
     "metadata": {},
     "output_type": "execute_result"
    },
    {
     "data": {
      "image/png": "[encoded data removed]",
      "text/plain": [
       "<Figure size 640x480 with 1 Axes>"
      ]
     },
     "metadata": {},
     "output_type": "display_data"
    }
   ],
   "source": [
    "plt.subplot(1, 2, 2)\n",
    "y_train.value_counts().plot(kind='bar', color='lightgreen')\n",
    "plt.title('Class Distribution - Training Data (80%)')\n",
    "plt.xlabel('Class')\n",
    "plt.ylabel('Number of Samples')"
   ]
  },
  {
   "cell_type": "code",
   "execution_count": 9,
   "id": "4a27c53ffdf76986",
   "metadata": {
    "ExecuteTime": {
     "end_time": "2025-01-30T19:07:00.297340400Z",
     "start_time": "2025-01-30T19:07:00.287337600Z"
    },
    "collapsed": false
   },
   "outputs": [
    {
     "data": {
      "text/plain": [
       "Diabetes_012\n",
       "0.0    84.240973\n",
       "2.0    13.933400\n",
       "1.0     1.825627\n",
       "Name: proportion, dtype: float64"
      ]
     },
     "execution_count": 9,
     "metadata": {},
     "output_type": "execute_result"
    }
   ],
   "source": [
    "y_train.value_counts(normalize=True) * 100"
   ]
  },
  {
   "cell_type": "code",
   "execution_count": 10,
   "id": "e83f9457c6054c6e",
   "metadata": {
    "ExecuteTime": {
     "end_time": "2025-01-30T19:07:00.373336Z",
     "start_time": "2025-01-30T19:07:00.298332Z"
    },
    "collapsed": false
   },
   "outputs": [],
   "source": [
    "offline_df = pd.concat([X_train, y_train], axis=1)\n",
    "online_df = pd.concat([X_test, y_test], axis=1)"
   ]
  },
  {
   "cell_type": "code",
   "execution_count": 11,
   "id": "8d0d686cd2ad99d",
   "metadata": {
    "ExecuteTime": {
     "end_time": "2025-01-30T19:07:03.544033100Z",
     "start_time": "2025-01-30T19:07:00.329345Z"
    },
    "collapsed": false
   },
   "outputs": [],
   "source": [
    "offline_df.to_csv(\"offline.csv\", index=False)\n",
    "online_df.to_csv(\"online.csv\", index=False)"
   ]
  },
  {
   "cell_type": "code",
   "execution_count": 12,
   "id": "feb3a3cd22c7ad60",
   "metadata": {
    "ExecuteTime": {
     "end_time": "2025-01-30T19:07:03.545007700Z",
     "start_time": "2025-01-30T19:07:03.525011700Z"
    },
    "collapsed": false
   },
   "outputs": [],
   "source": [
    "# Offline Фаза"
   ]
  },
  {
   "cell_type": "code",
   "execution_count": 13,
   "id": "133bd8ed65408a7e",
   "metadata": {
    "ExecuteTime": {
     "end_time": "2025-01-30T19:07:03.709008500Z",
     "start_time": "2025-01-30T19:07:03.541017Z"
    },
    "collapsed": false
   },
   "outputs": [],
   "source": [
    "from pyspark.sql import SparkSession"
   ]
  },
  {
   "cell_type": "code",
   "execution_count": 14,
   "id": "134b1b94bf186e86",
   "metadata": {
    "ExecuteTime": {
     "end_time": "2025-01-30T19:07:27.646125900Z",
     "start_time": "2025-01-30T19:07:03.712011500Z"
    },
    "collapsed": false
   },
   "outputs": [],
   "source": [
    "spark = SparkSession.builder.appName(\"DiabetesClassification\").master(\"local[*]\").getOrCreate()"
   ]
  },
  {
   "cell_type": "code",
   "execution_count": 15,
   "id": "1b104f9ef7062c36",
   "metadata": {
    "ExecuteTime": {
     "end_time": "2025-01-30T19:07:33.687584900Z",
     "start_time": "2025-01-30T19:07:27.648126100Z"
    },
    "collapsed": false
   },
   "outputs": [
    {
     "name": "stdout",
     "output_type": "stream",
     "text": [
      "+------+--------+---------+----+------+------+--------------------+------------+------+-------+-----------------+-------------+-----------+-------+--------+--------+--------+---+----+---------+------+------------+\n",
      "|HighBP|HighChol|CholCheck| BMI|Smoker|Stroke|HeartDiseaseorAttack|PhysActivity|Fruits|Veggies|HvyAlcoholConsump|AnyHealthcare|NoDocbcCost|GenHlth|MentHlth|PhysHlth|DiffWalk|Sex| Age|Education|Income|Diabetes_012|\n",
      "+------+--------+---------+----+------+------+--------------------+------------+------+-------+-----------------+-------------+-----------+-------+--------+--------+--------+---+----+---------+------+------------+\n",
      "|   1.0|     0.0|      1.0|25.0|   0.0|   0.0|                 0.0|         1.0|   1.0|    1.0|              0.0|          1.0|        0.0|    2.0|     0.0|     0.0|     0.0|1.0|10.0|      4.0|   4.0|         0.0|\n",
      "|   0.0|     0.0|      1.0|37.0|   1.0|   0.0|                 0.0|         1.0|   1.0|    1.0|              0.0|          1.0|        0.0|    1.0|     0.0|     0.0|     0.0|0.0| 1.0|      5.0|   5.0|         0.0|\n",
      "|   1.0|     1.0|      1.0|35.0|   0.0|   0.0|                 0.0|         1.0|   1.0|    0.0|              0.0|          1.0|        0.0|    2.0|     0.0|     0.0|     0.0|0.0|11.0|      5.0|   3.0|         0.0|\n",
      "|   0.0|     0.0|      1.0|27.0|   0.0|   0.0|                 0.0|         1.0|   0.0|    0.0|              0.0|          1.0|        0.0|    2.0|     0.0|     5.0|     0.0|1.0| 3.0|      4.0|   6.0|         0.0|\n",
      "|   0.0|     0.0|      1.0|28.0|   1.0|   0.0|                 0.0|         1.0|   0.0|    0.0|              0.0|          1.0|        1.0|    3.0|     3.0|     0.0|     0.0|0.0| 9.0|      4.0|   4.0|         0.0|\n",
      "+------+--------+---------+----+------+------+--------------------+------------+------+-------+-----------------+-------------+-----------+-------+--------+--------+--------+---+----+---------+------+------------+\n",
      "only showing top 5 rows\n",
      "\n"
     ]
    }
   ],
   "source": [
    "df_offline = spark.read.csv(\"offline.csv\", header=True, inferSchema=True)\n",
    "df_offline.show(5)"
   ]
  },
  {
   "cell_type": "code",
   "execution_count": 16,
   "id": "a32bd88e231b4b0b",
   "metadata": {
    "ExecuteTime": {
     "end_time": "2025-01-30T19:07:34.895103300Z",
     "start_time": "2025-01-30T19:07:33.689587200Z"
    },
    "collapsed": false
   },
   "outputs": [],
   "source": [
    "from pyspark.ml.feature import MinMaxScaler\n",
    "from pyspark.ml.feature import VectorAssembler"
   ]
  },
  {
   "cell_type": "code",
   "execution_count": 17,
   "id": "78d13203f731216d",
   "metadata": {
    "ExecuteTime": {
     "end_time": "2025-01-30T19:07:34.910104900Z",
     "start_time": "2025-01-30T19:07:34.897102100Z"
    },
    "collapsed": false
   },
   "outputs": [],
   "source": [
    "def transform(data, input_cols):\n",
    "    assembler = VectorAssembler(inputCols=input_cols, outputCol=\"features\")\n",
    "    output = assembler.transform(data)\n",
    "    \n",
    "    scaler = MinMaxScaler(inputCol=\"features\", outputCol=\"scaledFeatures\")\n",
    "    scaledData = scaler.fit(output).transform(output)\n",
    "    \n",
    "    return scaledData\n",
    "    "
   ]
  },
  {
   "cell_type": "code",
   "execution_count": 18,
   "id": "7e89d205f7879d7",
   "metadata": {
    "ExecuteTime": {
     "end_time": "2025-01-30T19:07:34.972103800Z",
     "start_time": "2025-01-30T19:07:34.912101400Z"
    },
    "collapsed": false
   },
   "outputs": [
    {
     "data": {
      "text/plain": [
       "['HighBP',\n",
       " 'HighChol',\n",
       " 'CholCheck',\n",
       " 'BMI',\n",
       " 'Smoker',\n",
       " 'Stroke',\n",
       " 'HeartDiseaseorAttack',\n",
       " 'PhysActivity',\n",
       " 'Fruits',\n",
       " 'Veggies',\n",
       " 'HvyAlcoholConsump',\n",
       " 'AnyHealthcare',\n",
       " 'NoDocbcCost',\n",
       " 'GenHlth',\n",
       " 'MentHlth',\n",
       " 'PhysHlth',\n",
       " 'DiffWalk',\n",
       " 'Sex',\n",
       " 'Age',\n",
       " 'Education',\n",
       " 'Income']"
      ]
     },
     "execution_count": 18,
     "metadata": {},
     "output_type": "execute_result"
    }
   ],
   "source": [
    "feature_columns = [col for col in df_offline.columns if col != 'Diabetes_012']\n",
    "feature_columns"
   ]
  },
  {
   "cell_type": "code",
   "execution_count": 19,
   "id": "f7304c2307fb5a1a",
   "metadata": {
    "ExecuteTime": {
     "end_time": "2025-01-30T19:07:37.461773800Z",
     "start_time": "2025-01-30T19:07:34.959133400Z"
    },
    "collapsed": false
   },
   "outputs": [
    {
     "name": "stdout",
     "output_type": "stream",
     "text": [
      "+------+--------+---------+----+------+------+--------------------+------------+------+-------+-----------------+-------------+-----------+-------+--------+--------+--------+---+----+---------+------+------------+--------------------+--------------------+\n",
      "|HighBP|HighChol|CholCheck| BMI|Smoker|Stroke|HeartDiseaseorAttack|PhysActivity|Fruits|Veggies|HvyAlcoholConsump|AnyHealthcare|NoDocbcCost|GenHlth|MentHlth|PhysHlth|DiffWalk|Sex| Age|Education|Income|Diabetes_012|            features|      scaledFeatures|\n",
      "+------+--------+---------+----+------+------+--------------------+------------+------+-------+-----------------+-------------+-----------+-------+--------+--------+--------+---+----+---------+------+------------+--------------------+--------------------+\n",
      "|   1.0|     0.0|      1.0|25.0|   0.0|   0.0|                 0.0|         1.0|   1.0|    1.0|              0.0|          1.0|        0.0|    2.0|     0.0|     0.0|     0.0|1.0|10.0|      4.0|   4.0|         0.0|(21,[0,2,3,7,8,9,...|(21,[0,2,3,7,8,9,...|\n",
      "|   0.0|     0.0|      1.0|37.0|   1.0|   0.0|                 0.0|         1.0|   1.0|    1.0|              0.0|          1.0|        0.0|    1.0|     0.0|     0.0|     0.0|0.0| 1.0|      5.0|   5.0|         0.0|(21,[2,3,4,7,8,9,...|(21,[2,3,4,7,8,9,...|\n",
      "|   1.0|     1.0|      1.0|35.0|   0.0|   0.0|                 0.0|         1.0|   1.0|    0.0|              0.0|          1.0|        0.0|    2.0|     0.0|     0.0|     0.0|0.0|11.0|      5.0|   3.0|         0.0|(21,[0,1,2,3,7,8,...|(21,[0,1,2,3,7,8,...|\n",
      "|   0.0|     0.0|      1.0|27.0|   0.0|   0.0|                 0.0|         1.0|   0.0|    0.0|              0.0|          1.0|        0.0|    2.0|     0.0|     5.0|     0.0|1.0| 3.0|      4.0|   6.0|         0.0|(21,[2,3,7,11,13,...|(21,[2,3,7,11,13,...|\n",
      "|   0.0|     0.0|      1.0|28.0|   1.0|   0.0|                 0.0|         1.0|   0.0|    0.0|              0.0|          1.0|        1.0|    3.0|     3.0|     0.0|     0.0|0.0| 9.0|      4.0|   4.0|         0.0|(21,[2,3,4,7,11,1...|(21,[2,3,4,7,11,1...|\n",
      "+------+--------+---------+----+------+------+--------------------+------------+------+-------+-----------------+-------------+-----------+-------+--------+--------+--------+---+----+---------+------+------------+--------------------+--------------------+\n",
      "only showing top 5 rows\n",
      "\n"
     ]
    }
   ],
   "source": [
    "df_scaled = transform(df_offline, feature_columns)\n",
    "df_scaled.show(5)"
   ]
  },
  {
   "cell_type": "code",
   "execution_count": 20,
   "id": "6ec858f9a703854b",
   "metadata": {
    "ExecuteTime": {
     "end_time": "2025-01-30T19:07:37.743768800Z",
     "start_time": "2025-01-30T19:07:37.464778600Z"
    },
    "collapsed": false
   },
   "outputs": [
    {
     "name": "stdout",
     "output_type": "stream",
     "text": [
      "+---------------------------------------------------------------------------------------------------------------------------------------------------------+\n",
      "|scaledFeatures                                                                                                                                           |\n",
      "+---------------------------------------------------------------------------------------------------------------------------------------------------------+\n",
      "|(21,[0,2,3,7,8,9,11,13,17,18,19,20],[1.0,1.0,0.1511627906976744,1.0,1.0,1.0,1.0,0.25,1.0,0.75,0.6000000000000001,0.42857142857142855])                   |\n",
      "|(21,[2,3,4,7,8,9,11,19,20],[1.0,0.29069767441860467,1.0,1.0,1.0,1.0,1.0,0.8,0.5714285714285714])                                                         |\n",
      "|(21,[0,1,2,3,7,8,11,13,18,19,20],[1.0,1.0,1.0,0.26744186046511625,1.0,1.0,1.0,0.25,0.8333333333333333,0.8,0.2857142857142857])                           |\n",
      "|(21,[2,3,7,11,13,15,17,18,19,20],[1.0,0.1744186046511628,1.0,1.0,0.25,0.16666666666666666,1.0,0.16666666666666666,0.6000000000000001,0.7142857142857142])|\n",
      "|(21,[2,3,4,7,11,12,13,14,18,19,20],[1.0,0.18604651162790697,1.0,1.0,1.0,1.0,0.5,0.1,0.6666666666666666,0.6000000000000001,0.42857142857142855])          |\n",
      "+---------------------------------------------------------------------------------------------------------------------------------------------------------+\n",
      "only showing top 5 rows\n",
      "\n"
     ]
    }
   ],
   "source": [
    "df_scaled.select(\"scaledFeatures\").show(5, truncate=False)"
   ]
  },
  {
   "cell_type": "code",
   "execution_count": 21,
   "id": "1a1703070f51123",
   "metadata": {
    "ExecuteTime": {
     "end_time": "2025-01-30T19:07:37.784773600Z",
     "start_time": "2025-01-30T19:07:37.699769500Z"
    },
    "collapsed": false
   },
   "outputs": [],
   "source": [
    "from pyspark.ml.classification import LogisticRegression, DecisionTreeClassifier, RandomForestClassifier\n",
    "from pyspark.ml.evaluation import MulticlassClassificationEvaluator\n",
    "from pyspark.ml.tuning import CrossValidator, ParamGridBuilder"
   ]
  },
  {
   "cell_type": "code",
   "execution_count": 22,
   "id": "61299cb11c9ba9d6",
   "metadata": {
    "ExecuteTime": {
     "end_time": "2025-01-30T19:07:37.821767600Z",
     "start_time": "2025-01-30T19:07:37.715766900Z"
    },
    "collapsed": false
   },
   "outputs": [],
   "source": [
    "df_filtered = df_scaled.select(\"scaledFeatures\", \"Diabetes_012\")"
   ]
  },
  {
   "cell_type": "code",
   "execution_count": 23,
   "id": "5e5e6571e1364a0b",
   "metadata": {
    "ExecuteTime": {
     "end_time": "2025-01-30T19:07:37.823791800Z",
     "start_time": "2025-01-30T19:07:37.759772500Z"
    },
    "collapsed": false
   },
   "outputs": [],
   "source": [
    "evaluator = MulticlassClassificationEvaluator(labelCol=\"Diabetes_012\", predictionCol=\"prediction\", metricName=\"f1\")"
   ]
  },
  {
   "cell_type": "code",
   "execution_count": 24,
   "id": "1b45257a3f2b1fe5",
   "metadata": {
    "ExecuteTime": {
     "end_time": "2025-01-30T19:07:37.946430600Z",
     "start_time": "2025-01-30T19:07:37.791770200Z"
    },
    "collapsed": false
   },
   "outputs": [],
   "source": [
    "lr = LogisticRegression(featuresCol=\"scaledFeatures\", labelCol=\"Diabetes_012\")\n",
    "dt = DecisionTreeClassifier(featuresCol=\"scaledFeatures\", labelCol=\"Diabetes_012\")\n",
    "rf = RandomForestClassifier(featuresCol=\"scaledFeatures\", labelCol=\"Diabetes_012\")"
   ]
  },
  {
   "cell_type": "code",
   "execution_count": 25,
   "id": "1a6038f860cbdb2",
   "metadata": {
    "ExecuteTime": {
     "end_time": "2025-01-30T19:07:37.972444Z",
     "start_time": "2025-01-30T19:07:37.912768400Z"
    },
    "collapsed": false
   },
   "outputs": [],
   "source": [
    "lr_param_grid = (ParamGridBuilder()\n",
    "                 .addGrid(lr.regParam, [0.01, 0.1, 0.5])\n",
    "                 .addGrid(lr.maxIter, [50, 100])\n",
    "                 .build())\n",
    "\n",
    "dt_param_grid = (ParamGridBuilder()\n",
    "                 .addGrid(dt.maxDepth, [5, 10, 15])\n",
    "                 .addGrid(dt.maxBins, [20, 40])\n",
    "                 .build())\n",
    "\n",
    "rf_param_grid = (ParamGridBuilder()\n",
    "                 .addGrid(rf.numTrees, [10, 50])\n",
    "                 .addGrid(rf.maxDepth, [5, 10])\n",
    "                 .build())\n"
   ]
  },
  {
   "cell_type": "code",
   "execution_count": 26,
   "id": "24b290558937965e",
   "metadata": {
    "ExecuteTime": {
     "end_time": "2025-01-30T19:07:37.974434700Z",
     "start_time": "2025-01-30T19:07:37.929783Z"
    },
    "collapsed": false
   },
   "outputs": [],
   "source": [
    "cv_lr = CrossValidator(estimator=lr, estimatorParamMaps=lr_param_grid, evaluator=evaluator, numFolds=5)\n",
    "cv_dt = CrossValidator(estimator=dt, estimatorParamMaps=dt_param_grid, evaluator=evaluator, numFolds=5)\n",
    "cv_rf = CrossValidator(estimator=rf, estimatorParamMaps=rf_param_grid, evaluator=evaluator, numFolds=5)"
   ]
  },
  {
   "cell_type": "code",
   "execution_count": 27,
   "id": "3d74b8c345be7dbe",
   "metadata": {
    "ExecuteTime": {
     "end_time": "2025-01-30T19:09:28.088025400Z",
     "start_time": "2025-01-30T19:07:37.944436100Z"
    },
    "collapsed": false
   },
   "outputs": [],
   "source": [
    "cv_lr_model = cv_lr.fit(df_filtered)\n",
    "cv_dt_model = cv_dt.fit(df_filtered)\n",
    "cv_rf_model = cv_rf.fit(df_filtered)"
   ]
  },
  {
   "cell_type": "code",
   "execution_count": 28,
   "id": "9e3f7423c14fbfab",
   "metadata": {
    "ExecuteTime": {
     "end_time": "2025-01-30T19:09:29.601295400Z",
     "start_time": "2025-01-30T19:09:28.088025400Z"
    },
    "collapsed": false
   },
   "outputs": [],
   "source": [
    "f1_lr = evaluator.evaluate(cv_lr_model.bestModel.transform(df_filtered))\n",
    "f1_dt = evaluator.evaluate(cv_dt_model.bestModel.transform(df_filtered))\n",
    "f1_rf = evaluator.evaluate(cv_rf_model.bestModel.transform(df_filtered))"
   ]
  },
  {
   "cell_type": "code",
   "execution_count": 29,
   "id": "76d1242b7543f037",
   "metadata": {
    "ExecuteTime": {
     "end_time": "2025-01-30T19:09:29.623291900Z",
     "start_time": "2025-01-30T19:09:29.603294400Z"
    },
    "collapsed": false
   },
   "outputs": [
    {
     "name": "stdout",
     "output_type": "stream",
     "text": [
      "Logistic Regression F1: 0.8065274491471475\n",
      "Decision Tree F1: 0.8189465738314347\n",
      "Random Forest F1: 0.8076458247816091\n"
     ]
    }
   ],
   "source": [
    "print(f\"Logistic Regression F1: {f1_lr}\")\n",
    "print(f\"Decision Tree F1: {f1_dt}\")\n",
    "print(f\"Random Forest F1: {f1_rf}\")"
   ]
  },
  {
   "cell_type": "code",
   "execution_count": 30,
   "id": "e9062faeeca0e8c1",
   "metadata": {
    "ExecuteTime": {
     "end_time": "2025-01-30T20:28:25.027132800Z",
     "start_time": "2025-01-30T20:28:24.577312500Z"
    },
    "collapsed": false
   },
   "outputs": [],
   "source": [
    "cv_dt_model.bestModel.save(\"best-model\")"
   ]
  }
 ],
 "metadata": {
  "kernelspec": {
   "display_name": ".venv",
   "language": "python",
   "name": "python3"
  },
  "language_info": {
   "codemirror_mode": {
    "name": "ipython",
    "version": 3
   },
   "file_extension": ".py",
   "mimetype": "text/x-python",
   "name": "python",
   "nbconvert_exporter": "python",
   "pygments_lexer": "ipython3",
   "version": "3.10.0"
  }
 },
 "nbformat": 4,
 "nbformat_minor": 5
}
